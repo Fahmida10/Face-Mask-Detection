{
  "nbformat": 4,
  "nbformat_minor": 0,
  "metadata": {
    "colab": {
      "provenance": [],
      "machine_shape": "hm",
      "gpuType": "A100"
    },
    "kernelspec": {
      "name": "python3",
      "display_name": "Python 3"
    },
    "language_info": {
      "name": "python"
    },
    "accelerator": "GPU"
  },
  "cells": [
    {
      "cell_type": "code",
      "execution_count": null,
      "metadata": {
        "id": "uGiZ-SK2BdBa"
      },
      "outputs": [],
      "source": []
    },
    {
      "cell_type": "code",
      "source": [
        "from google.colab import drive\n",
        "drive.mount('/content/drive')"
      ],
      "metadata": {
        "colab": {
          "base_uri": "https://localhost:8080/"
        },
        "id": "sKsecNMRCTQz",
        "outputId": "8036a765-575c-4efa-e5b2-c3c9f8bab4fd"
      },
      "execution_count": 1,
      "outputs": [
        {
          "output_type": "stream",
          "name": "stdout",
          "text": [
            "Drive already mounted at /content/drive; to attempt to forcibly remount, call drive.mount(\"/content/drive\", force_remount=True).\n"
          ]
        }
      ]
    },
    {
      "cell_type": "code",
      "source": [
        "# import the necessary packages\n",
        "from tensorflow.keras.preprocessing.image import ImageDataGenerator\n",
        "from tensorflow.keras.applications import MobileNetV2\n",
        "from tensorflow.keras.layers import AveragePooling2D\n",
        "from tensorflow.keras.layers import Dropout\n",
        "from tensorflow.keras.layers import Flatten\n",
        "from tensorflow.keras.layers import Dense\n",
        "from tensorflow.keras.layers import Input\n",
        "from tensorflow.keras.models import Model\n",
        "from tensorflow.keras.optimizers import Adam\n",
        "from tensorflow.keras.applications.mobilenet_v2 import preprocess_input\n",
        "from tensorflow.keras.preprocessing.image import img_to_array\n",
        "from tensorflow.keras.preprocessing.image import load_img\n",
        "from tensorflow.keras.utils import to_categorical\n",
        "from sklearn.preprocessing import LabelBinarizer\n",
        "from sklearn.model_selection import train_test_split\n",
        "from sklearn.metrics import classification_report\n",
        "from imutils import paths\n",
        "import matplotlib.pyplot as plt\n",
        "import numpy as np\n",
        "import os"
      ],
      "metadata": {
        "id": "_7Z6zY_DCit1"
      },
      "execution_count": 2,
      "outputs": []
    },
    {
      "cell_type": "code",
      "source": [
        "# initialize the initial learning rate\n",
        "INIT_LR = 1e-4\n",
        "EPOCHS = 20\n",
        "BS = 32"
      ],
      "metadata": {
        "id": "0zK9Sp7eCk7a"
      },
      "execution_count": 3,
      "outputs": []
    },
    {
      "cell_type": "code",
      "source": [
        "\n",
        "# For Linux\n",
        "# DIRECTORY = r\"/home/apple/Desktop/Face_Mask_Project/dataset/\"\n",
        "\n",
        "DIRECTORY = r\"/content/drive/MyDrive/Colab Notebooks/Face Mask Detection Dataset/Face Mask Detection Dataset/dataset\"\n",
        "CATEGORIES = [\"with_mask\", \"without_mask\"]"
      ],
      "metadata": {
        "id": "afa1JI_MCn9K"
      },
      "execution_count": 4,
      "outputs": []
    },
    {
      "cell_type": "code",
      "source": [
        "# grab the list of images in our dataset directory, then initialize\n",
        "print(\"[INFO] loading images...\")\n",
        "\n",
        "data = []\n",
        "labels = []\n",
        "\n",
        "for category in CATEGORIES:\n",
        "    path = os.path.join(DIRECTORY, category)\n",
        "    for img in os.listdir(path):\n",
        "    \timg_path = os.path.join(path, img)\n",
        "    \timage = load_img(img_path, target_size=(224, 224))\n",
        "    \timage = img_to_array(image)\n",
        "    \timage = preprocess_input(image)\n",
        "\n",
        "    \tdata.append(image)\n",
        "    \tlabels.append(category)"
      ],
      "metadata": {
        "colab": {
          "base_uri": "https://localhost:8080/"
        },
        "id": "8uhMBSDtC2vw",
        "outputId": "3ed420ac-f352-4c31-b979-2116b975e3e1"
      },
      "execution_count": 5,
      "outputs": [
        {
          "output_type": "stream",
          "name": "stdout",
          "text": [
            "[INFO] loading images...\n"
          ]
        },
        {
          "output_type": "stream",
          "name": "stderr",
          "text": [
            "/usr/local/lib/python3.10/dist-packages/PIL/Image.py:975: UserWarning: Palette images with Transparency expressed in bytes should be converted to RGBA images\n",
            "  warnings.warn(\n"
          ]
        }
      ]
    },
    {
      "cell_type": "code",
      "source": [
        "# convert text to Binary\n",
        "lb = LabelBinarizer()\n",
        "labels = lb.fit_transform(labels)\n",
        "labels = to_categorical(labels)\n",
        "\n",
        "data = np.array(data, dtype=\"float32\")\n",
        "labels = np.array(labels)\n",
        "\n",
        "(trainX, testX, trainY, testY) = train_test_split(data, labels,\n",
        "\ttest_size=0.20, stratify=labels, random_state=42)"
      ],
      "metadata": {
        "id": "zsYtss9CDAtM"
      },
      "execution_count": 6,
      "outputs": []
    },
    {
      "cell_type": "code",
      "source": [
        "# construct the training image generator for data augmentation\n",
        "aug = ImageDataGenerator(\n",
        "\trotation_range=20,\n",
        "\tzoom_range=0.15,\n",
        "\twidth_shift_range=0.2,\n",
        "\theight_shift_range=0.2,\n",
        "\tshear_range=0.15,\n",
        "\thorizontal_flip=True,\n",
        "\tfill_mode=\"nearest\")"
      ],
      "metadata": {
        "id": "Y8LtOrThDesD"
      },
      "execution_count": 7,
      "outputs": []
    },
    {
      "cell_type": "code",
      "source": [
        "# load the MobileNetV2 network\n",
        "baseModel = MobileNetV2(weights=\"imagenet\", include_top=False,\n",
        "\tinput_tensor=Input(shape=(224, 224, 3)))\n"
      ],
      "metadata": {
        "colab": {
          "base_uri": "https://localhost:8080/"
        },
        "id": "kNkqh86SDqEE",
        "outputId": "11107b61-b152-40bb-d173-ed19ee531375"
      },
      "execution_count": 8,
      "outputs": [
        {
          "output_type": "stream",
          "name": "stderr",
          "text": [
            "WARNING:tensorflow:`input_shape` is undefined or non-square, or `rows` is not in [96, 128, 160, 192, 224]. Weights for input shape (224, 224) will be loaded as the default.\n"
          ]
        },
        {
          "output_type": "stream",
          "name": "stdout",
          "text": [
            "Downloading data from https://storage.googleapis.com/tensorflow/keras-applications/mobilenet_v2/mobilenet_v2_weights_tf_dim_ordering_tf_kernels_1.0_224_no_top.h5\n",
            "9406464/9406464 [==============================] - 2s 0us/step\n"
          ]
        }
      ]
    },
    {
      "cell_type": "code",
      "source": [
        "# Create head and the base model\n",
        "headModel = baseModel.output\n",
        "headModel = AveragePooling2D(pool_size=(7, 7))(headModel)\n",
        "headModel = Flatten(name=\"flatten\")(headModel)\n",
        "headModel = Dense(128, activation=\"relu\")(headModel)\n",
        "headModel = Dropout(0.5)(headModel)\n",
        "headModel = Dense(2, activation=\"softmax\")(headModel)\n"
      ],
      "metadata": {
        "id": "R4Lk5rxRDtN9"
      },
      "execution_count": 9,
      "outputs": []
    },
    {
      "cell_type": "code",
      "source": [
        "# Call head and the base model\n",
        "model = Model(inputs=baseModel.input, outputs=headModel)"
      ],
      "metadata": {
        "id": "250OnyZqDwlN"
      },
      "execution_count": 11,
      "outputs": []
    },
    {
      "cell_type": "code",
      "source": [
        "# loop over all layers in the base model and freeze them\n",
        "for layer in baseModel.layers:\n",
        "\tlayer.trainable = False"
      ],
      "metadata": {
        "id": "nfLQmk2hD3ZN"
      },
      "execution_count": 12,
      "outputs": []
    },
    {
      "cell_type": "code",
      "source": [
        "from tensorflow.keras.optimizers.schedules import ExponentialDecay\n",
        "\n",
        "print(\"Compilation of the MODEL is going on...\")\n",
        "\n",
        "lr_schedule = ExponentialDecay(\n",
        "    initial_learning_rate=INIT_LR,\n",
        "    decay_steps=100000,\n",
        "    decay_rate=0.96,\n",
        "    staircase=True)\n",
        "\n",
        "opt = Adam(learning_rate=lr_schedule)\n",
        "model.compile(loss=\"binary_crossentropy\", optimizer=opt, metrics=[\"accuracy\"])\n"
      ],
      "metadata": {
        "colab": {
          "base_uri": "https://localhost:8080/"
        },
        "id": "-O8eEyRFD5_N",
        "outputId": "5186ba7e-2097-4e47-8ec9-31e88a21e1fa"
      },
      "execution_count": 14,
      "outputs": [
        {
          "output_type": "stream",
          "name": "stdout",
          "text": [
            "Compilation of the MODEL is going on...\n"
          ]
        }
      ]
    },
    {
      "cell_type": "code",
      "source": [
        "# train the head of the network\n",
        "print(\"Training Head Started...\")\n",
        "H = model.fit(\n",
        "\taug.flow(trainX, trainY, batch_size=BS),\n",
        "\tsteps_per_epoch=len(trainX) // BS,\n",
        "\tvalidation_data=(testX, testY),\n",
        "\tvalidation_steps=len(testX) // BS,\n",
        "\tepochs=EPOCHS)"
      ],
      "metadata": {
        "colab": {
          "base_uri": "https://localhost:8080/"
        },
        "id": "lfJh7o5nEVgG",
        "outputId": "e2487d25-5443-4beb-c234-66897057c9b4"
      },
      "execution_count": 15,
      "outputs": [
        {
          "output_type": "stream",
          "name": "stdout",
          "text": [
            "Training Head Started...\n",
            "Epoch 1/20\n",
            "95/95 [==============================] - 43s 329ms/step - loss: 0.3759 - accuracy: 0.8537 - val_loss: 0.1555 - val_accuracy: 0.9648\n",
            "Epoch 2/20\n",
            "95/95 [==============================] - 31s 329ms/step - loss: 0.1443 - accuracy: 0.9644 - val_loss: 0.0884 - val_accuracy: 0.9726\n",
            "Epoch 3/20\n",
            "95/95 [==============================] - 30s 316ms/step - loss: 0.0895 - accuracy: 0.9756 - val_loss: 0.0686 - val_accuracy: 0.9765\n",
            "Epoch 4/20\n",
            "95/95 [==============================] - 30s 317ms/step - loss: 0.0733 - accuracy: 0.9792 - val_loss: 0.0579 - val_accuracy: 0.9765\n",
            "Epoch 5/20\n",
            "95/95 [==============================] - 30s 315ms/step - loss: 0.0630 - accuracy: 0.9825 - val_loss: 0.0510 - val_accuracy: 0.9791\n",
            "Epoch 6/20\n",
            "95/95 [==============================] - 30s 314ms/step - loss: 0.0471 - accuracy: 0.9852 - val_loss: 0.0486 - val_accuracy: 0.9844\n",
            "Epoch 7/20\n",
            "95/95 [==============================] - 30s 314ms/step - loss: 0.0540 - accuracy: 0.9842 - val_loss: 0.0484 - val_accuracy: 0.9831\n",
            "Epoch 8/20\n",
            "95/95 [==============================] - 30s 313ms/step - loss: 0.0451 - accuracy: 0.9868 - val_loss: 0.0455 - val_accuracy: 0.9831\n",
            "Epoch 9/20\n",
            "95/95 [==============================] - 30s 314ms/step - loss: 0.0400 - accuracy: 0.9895 - val_loss: 0.0422 - val_accuracy: 0.9817\n",
            "Epoch 10/20\n",
            "95/95 [==============================] - 30s 314ms/step - loss: 0.0350 - accuracy: 0.9891 - val_loss: 0.0412 - val_accuracy: 0.9844\n",
            "Epoch 11/20\n",
            "95/95 [==============================] - 30s 311ms/step - loss: 0.0301 - accuracy: 0.9904 - val_loss: 0.0385 - val_accuracy: 0.9870\n",
            "Epoch 12/20\n",
            "95/95 [==============================] - 30s 311ms/step - loss: 0.0386 - accuracy: 0.9865 - val_loss: 0.0391 - val_accuracy: 0.9870\n",
            "Epoch 13/20\n",
            "95/95 [==============================] - 30s 314ms/step - loss: 0.0326 - accuracy: 0.9911 - val_loss: 0.0336 - val_accuracy: 0.9883\n",
            "Epoch 14/20\n",
            "95/95 [==============================] - 30s 314ms/step - loss: 0.0355 - accuracy: 0.9898 - val_loss: 0.0358 - val_accuracy: 0.9883\n",
            "Epoch 15/20\n",
            "95/95 [==============================] - 30s 316ms/step - loss: 0.0240 - accuracy: 0.9931 - val_loss: 0.0335 - val_accuracy: 0.9870\n",
            "Epoch 16/20\n",
            "95/95 [==============================] - 30s 318ms/step - loss: 0.0319 - accuracy: 0.9908 - val_loss: 0.0322 - val_accuracy: 0.9883\n",
            "Epoch 17/20\n",
            "95/95 [==============================] - 30s 316ms/step - loss: 0.0287 - accuracy: 0.9914 - val_loss: 0.0309 - val_accuracy: 0.9909\n",
            "Epoch 18/20\n",
            "95/95 [==============================] - 30s 318ms/step - loss: 0.0247 - accuracy: 0.9918 - val_loss: 0.0300 - val_accuracy: 0.9883\n",
            "Epoch 19/20\n",
            "95/95 [==============================] - 30s 317ms/step - loss: 0.0274 - accuracy: 0.9921 - val_loss: 0.0322 - val_accuracy: 0.9857\n",
            "Epoch 20/20\n",
            "95/95 [==============================] - 30s 317ms/step - loss: 0.0319 - accuracy: 0.9895 - val_loss: 0.0317 - val_accuracy: 0.9870\n"
          ]
        }
      ]
    },
    {
      "cell_type": "code",
      "source": [
        "# make predictions on the testing set\n",
        "print(\"Network evaluation...\")\n",
        "predIdxs = model.predict(testX, batch_size=BS)"
      ],
      "metadata": {
        "colab": {
          "base_uri": "https://localhost:8080/"
        },
        "id": "RbeXi8A9LZ8Y",
        "outputId": "62a869e8-dfa7-4eb4-8517-8152ec90eb83"
      },
      "execution_count": 16,
      "outputs": [
        {
          "output_type": "stream",
          "name": "stdout",
          "text": [
            "Network evaluation...\n",
            "24/24 [==============================] - 1s 13ms/step\n"
          ]
        }
      ]
    },
    {
      "cell_type": "code",
      "source": [
        "predIdxs = np.argmax(predIdxs, axis=1)\n",
        "\n",
        "# show a nicely formatted classification report\n",
        "print(classification_report(testY.argmax(axis=1), predIdxs,\n",
        "\ttarget_names=lb.classes_))\n",
        "\n",
        "# serialize the model to disk\n",
        "print(\"saving mask model...\")\n",
        "model.save(\"mask_detector.model\", save_format=\"h5\")"
      ],
      "metadata": {
        "colab": {
          "base_uri": "https://localhost:8080/"
        },
        "id": "b1RPDsaSLmFW",
        "outputId": "bc2fa6e8-d7d2-4bea-e8ff-3673117c1863"
      },
      "execution_count": 17,
      "outputs": [
        {
          "output_type": "stream",
          "name": "stdout",
          "text": [
            "              precision    recall  f1-score   support\n",
            "\n",
            "   with_mask       0.99      0.99      0.99       383\n",
            "without_mask       0.99      0.99      0.99       384\n",
            "\n",
            "    accuracy                           0.99       767\n",
            "   macro avg       0.99      0.99      0.99       767\n",
            "weighted avg       0.99      0.99      0.99       767\n",
            "\n",
            "saving mask model...\n"
          ]
        }
      ]
    },
    {
      "cell_type": "code",
      "source": [
        "# plot the training loss and accuracy\n",
        "N = EPOCHS\n",
        "plt.style.use(\"ggplot\")\n",
        "plt.figure()\n",
        "plt.plot(np.arange(0, N), H.history[\"loss\"], label=\"train_loss\")\n",
        "plt.plot(np.arange(0, N), H.history[\"val_loss\"], label=\"val_loss\")\n",
        "plt.plot(np.arange(0, N), H.history[\"accuracy\"], label=\"train_acc\")\n",
        "plt.plot(np.arange(0, N), H.history[\"val_accuracy\"], label=\"val_acc\")\n",
        "plt.title(\"Training Loss and Accuracy\")\n",
        "plt.xlabel(\"Epoch #\")\n",
        "plt.ylabel(\"Loss/Accuracy\")\n",
        "plt.legend(loc=\"lower left\")\n",
        "plt.savefig(\"plot.png\")"
      ],
      "metadata": {
        "colab": {
          "base_uri": "https://localhost:8080/",
          "height": 477
        },
        "id": "7Fx6Sb9ALq9G",
        "outputId": "ae656002-56ab-4f83-e9a8-99fa2b122373"
      },
      "execution_count": 18,
      "outputs": [
        {
          "output_type": "display_data",
          "data": {
            "text/plain": [
              "<Figure size 640x480 with 1 Axes>"
            ],
            "image/png": "[encoded data removed]"
          },
          "metadata": {}
        }
      ]
    }
  ]
}